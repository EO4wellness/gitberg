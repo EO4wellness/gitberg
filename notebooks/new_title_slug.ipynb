{
 "cells": [
  {
   "cell_type": "code",
   "execution_count": 3,
   "metadata": {
    "collapsed": false
   },
   "outputs": [
    {
     "name": "stdout",
     "output_type": "stream",
     "text": [
      "0x30de0x30eb0x30c10x30f30x30eb0x30bf0x30fc0x306e0x5c0f0x4fe10x4ef00x554f0x7b540x66f8_2592\t---------------_2592\n"
     ]
    }
   ],
   "source": [
    "import csv\n",
    "import sys\n",
    "sys.path.append(\"..\")\n",
    "from gitenberg.util.catalog import BookMetadata\n",
    "from gitenberg.book import Book\n",
    "rdf_library='/Documents/gitenberg/cache/epub'\n",
    "exit\n",
    "\n",
    "with open('../gitenberg/data/GITenberg_repo_list.tsv','r') as f:\n",
    "    for vals in csv.reader(f,delimiter='\\t', quotechar='\"'):\n",
    "        (pg_id, repo_name) = vals\n",
    "        if '-----' in repo_name:\n",
    "            pg_book=Book(pg_id)\n",
    "            pg_book.parse_book_metadata()\n",
    "            print '{}\\t{}'.format(pg_book.meta._repo,repo_name)\n",
    "            break\n",
    "        "
   ]
  },
  {
   "cell_type": "code",
   "execution_count": 4,
   "metadata": {
    "collapsed": false
   },
   "outputs": [
    {
     "name": "stdout",
     "output_type": "stream",
     "text": [
      "Babylonia-or-the-corruption-of-the-Greek-language-in-various-places-A-Comedy-in-five-acts_31434\n",
      "Babylonia; or, the corruption of the Greek language in various places.\r\n",
      "A Comedy in five acts\n"
     ]
    }
   ],
   "source": [
    "from gitenberg.book import Book\n",
    "\n",
    "book = Book(31434)\n",
    "book.parse_book_metadata()\n",
    "print book.meta._repo\n",
    "print book.meta.alternative_title"
   ]
  },
  {
   "cell_type": "code",
   "execution_count": null,
   "metadata": {
    "collapsed": true
   },
   "outputs": [],
   "source": []
  }
 ],
 "metadata": {
  "anaconda-cloud": {},
  "kernelspec": {
   "display_name": "Python 2",
   "language": "python",
   "name": "python2"
  },
  "language_info": {
   "codemirror_mode": {
    "name": "ipython",
    "version": 2
   },
   "file_extension": ".py",
   "mimetype": "text/x-python",
   "name": "python",
   "nbconvert_exporter": "python",
   "pygments_lexer": "ipython2",
   "version": "2.7.9"
  }
 },
 "nbformat": 4,
 "nbformat_minor": 1
}
