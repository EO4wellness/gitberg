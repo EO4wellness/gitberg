{
 "cells": [
  {
   "cell_type": "code",
   "execution_count": 1,
   "metadata": {
    "collapsed": false
   },
   "outputs": [],
   "source": [
    "from gitenberg.util import tenprintcover\n",
    "\n",
    "title = \"Computational and Inferential Thinking\"\n",
    "subtitle = 'The Foundations of Data Science'\n",
    "author = \"Ani Adhikari and John DeNero\"\n",
    "try:\n",
    "    cover_image = tenprintcover.draw(title, subtitle, author)\n",
    "except OSError:\n",
    "    print \"OSError, probably Cairo not installed.\"\n",
    "filename = '/Documents/gitenberg/tencover.png'\n",
    "try:\n",
    "    with open(filename, \"wb\") as f:\n",
    "        cover_image.save(f)\n",
    "except FileNotFoundError:\n",
    "    print(\"Error opening target file \" + filename)\n"
   ]
  },
  {
   "cell_type": "code",
   "execution_count": 3,
   "metadata": {
    "collapsed": false,
    "scrolled": true
   },
   "outputs": [
    {
     "name": "stdout",
     "output_type": "stream",
     "text": [
      "The Lane That Had No Turning, Volume 1\n",
      "The Lane That Had No Turning, Volume 1\n",
      "The Lane That Had No Turning, Volume 1\n",
      "The Lane That Had No Turning, Volume 1\n",
      "The Lane That Had No Turning, Volume 1\n",
      "The Lane That Had No Turning, Volume 1\n",
      "The Lane That Had No Turning, Volume 1\n",
      "The Lane That Had No Turning, Volume 1\n",
      "The Lane That Had No Turning, Volume 1\n",
      "The Lane That Had No Turning, Volume 1\n",
      "The Lane That Had No Turning, Volume 1\n",
      "The Lane That Had No Turning, Volume 1\n",
      "The Lane That Had No Turning, Volume 1\n",
      "The Lane That Had No Turning, Volume 1\n",
      "The Lane That Had No Turning, Volume 1\n",
      "The Lane That Had No Turning, Volume 1\n",
      "The Lane That Had No Turning, Volume 1\n",
      "The Lane That Had No Turning, Volume 1\n",
      "The Lane That Had No Turning, Volume 1\n",
      "The Lane That Had No Turning, Volume 1\n",
      "The Lane That Had No Turning, Volume 1\n",
      "The Lane That Had No Turning, Volume 1\n",
      "The Lane That Had No Turning, Volume 1\n",
      "The Lane That Had No Turning, Volume 1\n",
      "The Lane That Had No Turning, Volume 1\n",
      "The Lane That Had No Turning, Volume 1\n",
      "The Lane That Had No Turning, Volume 1\n",
      "The Lane That Had No Turning, Volume 1\n",
      "The Lane That Had No Turning, Volume 1\n",
      "The Lane That Had No Turning, Volume 1\n",
      "The Lane That Had No Turning, Volume 1\n",
      "The Lane That Had No Turning, Volume 1\n",
      "The Lane That Had No Turning, Volume 1\n",
      "The Lane That Had No Turning, Volume 1\n",
      "The Lane That Had No Turning, Volume 1\n",
      "The Lane That Had No Turning, Volume 1\n",
      "The Lane That Had No Turning, Volume 1\n",
      "The Lane That Had No Turning, Volume 1\n",
      "The Lane That Had No Turning, Volume 1\n",
      "The Lane That Had No Turning, Volume 1\n",
      "The Lane That Had No Turning, Volume 1\n",
      "The Lane That Had No Turning, Volume 1\n",
      "The Lane That Had No Turning, Volume 1\n",
      "The Lane That Had No Turning, Volume 1\n",
      "The Lane That Had No Turning, Volume 1\n",
      "The Lane That Had No Turning, Volume 1\n",
      "The Lane That Had No Turning, Volume 1\n",
      "The Lane That Had No Turning, Volume 1\n",
      "The Lane That Had No Turning, Volume 1\n",
      "The Lane That Had No Turning, Volume 1\n",
      "The Lane That Had No Turning, Volume 1\n",
      "The Lane That Had No Turning, Volume 1\n",
      "The Lane That Had No Turning, Volume 1\n",
      "The Lane That Had No Turning, Volume 1\n",
      "The Lane That Had No Turning, Volume 1\n",
      "The Lane That Had No Turning, Volume 1\n",
      "The Lane That Had No Turning, Volume 1\n",
      "The Lane That Had No Turning, Volume 1\n",
      "The Lane That Had No Turning, Volume 1\n",
      "The Lane That Had No Turning, Volume 1\n",
      "The Lane That Had No Turning, Volume 1\n",
      "The Lane That Had No Turning, Volume 1\n",
      "The Lane That Had No Turning, Volume 1\n",
      "The Lane That Had No Turning, Volume 1\n",
      "The Lane That Had No Turning, Volume 1\n",
      "The Lane That Had No Turning, Volume 1\n",
      "The Lane That Had No Turning, Volume 1\n",
      "The Lane That Had No Turning, Volume 1\n",
      "The Lane That Had No Turning, Volume 1\n",
      "The Lane That Had No Turning, Volume 1\n",
      "The Lane That Had No Turning, Volume 1\n",
      "The Lane That Had No Turning, Volume 1\n",
      "The Lane That Had No Turning, Volume 1\n",
      "The Lane That Had No Turning, Volume 1\n",
      "The Lane That Had No Turning, Volume 1\n",
      "The Lane That Had No Turning, Volume 1\n",
      "The Lane That Had No Turning, Volume 1\n",
      "The Lane That Had No Turning, Volume 1\n",
      "The Lane That Had No Turning, Volume 1\n",
      "The Lane That Had No Turning, Volume 1\n",
      "The Lane That Had No Turning, Volume 1\n",
      "The Lane That Had No Turning, Volume 1\n",
      "The Lane That Had No Turning, Volume 1\n",
      "The Lane That Had No Turning, Volume 1\n",
      "The Lane That Had No Turning, Volume 1\n",
      "The Lane That Had No Turning, Volume 1\n",
      "The Lane That Had No Turning, Volume 1\n",
      "The Lane That Had No Turning, Volume 1\n",
      "The Lane That Had No Turning, Volume 1\n",
      "The Lane That Had No Turning, Volume 1\n",
      "The Lane That Had No Turning, Volume 1\n",
      "The Lane That Had No Turning, Volume 1\n",
      "The Lane That Had No Turning, Volume 1\n",
      "The Lane That Had No Turning, Volume 1\n",
      "The Lane That Had No Turning, Volume 1\n",
      "The Lane That Had No Turning, Volume 1\n",
      "The Lane That Had No Turning, Volume 1\n",
      "The Lane That Had No Turning, Volume 1\n",
      "The Lane That Had No Turning, Volume 1\n",
      "The Lane That Had No Turning, Volume 1\n",
      "The Lane That Had No Turning, Volume 1\n",
      "The Lane That Had No Turning, Volume 1\n",
      "The Lane That Had No Turning, Volume 1\n",
      "The Lane That Had No Turning, Volume 1\n",
      "The Lane That Had No Turning, Volume 1\n",
      "The Lane That Had No Turning, Volume 1\n",
      "The Lane That Had No Turning, Volume 1\n",
      "The Lane That Had No Turning, Volume 1\n",
      "The Lane That Had No Turning, Volume 1\n",
      "The Lane That Had No Turning, Volume 1\n",
      "The Lane That Had No Turning, Volume 1\n",
      "The Lane That Had No Turning, Volume 1\n",
      "The Lane That Had No Turning, Volume 1\n",
      "The Lane That Had No Turning, Volume 1\n",
      "The Lane That Had No Turning, Volume 1\n",
      "The Lane That Had No Turning, Volume 1\n",
      "The Lane That Had No Turning, Volume 1\n",
      "The Lane That Had No Turning, Volume 1\n",
      "The Lane That Had No Turning, Volume 1\n",
      "The Lane That Had No Turning, Volume 1\n",
      "The Lane That Had No Turning, Volume 1\n",
      "The Lane That Had No Turning, Volume 1\n",
      "The Lane That Had No Turning, Volume 1\n",
      "The Lane That Had No Turning, Volume 1\n",
      "The Lane That Had No Turning, Volume 1\n",
      "The Lane That Had No Turning, Volume 1\n",
      "The Lane That Had No Turning, Volume 1\n",
      "The Lane That Had No Turning, Volume 1\n",
      "The Lane That Had No Turning, Volume 1\n",
      "The Lane That Had No Turning, Volume 1\n",
      "The Lane That Had No Turning, Volume 1\n",
      "The Lane That Had No Turning, Volume 1\n"
     ]
    }
   ],
   "source": [
    "import csv\n",
    "import re\n",
    "from gitenberg.util.catalog import repo_for_pgid\n",
    "from gitenberg.util import tenprintcover\n",
    "from gitenberg.metadata.pandata import Pandata\n",
    "                \n",
    "with open('/Documents/gitenberg/worksfromgit.txt','r') as f:\n",
    "    for vals in csv.reader(f,dialect=csv.excel_tab):\n",
    "        pg_id = int(vals[0])\n",
    "        ed_id = int(vals[1])\n",
    "        cover = vals[2]\n",
    "        repo = repo_for_pgid[pg_id]\n",
    "        #pandata = Pandata('https://github.com/GITenberg/{}/raw/master/metadata.yaml'.format(repo))\n",
    "        pandata = Pandata('/Documents/gitenberg/library/The-Lane-That-Had-No-Turning-Volume-1_6237/metadata.yaml')\n",
    "        #print pandata.covers\n",
    "        print pandata.metadata['title']\n",
    "        try:\n",
    "            #print u'{}\\t{}\\t{}'.format(pandata.title_no_subtitle, pandata.subtitle, pandata.authors_short))\n",
    "            cover_image = tenprintcover.draw(pandata.title_no_subtitle, pandata.subtitle, pandata.authors_short())\n",
    "        except OSError:\n",
    "            print \"OSError, probably Cairo not installed.\"\n",
    "        #filename = '/Users/eric/github/local/{}/cover{}.png'.format(pandata._repo, pg_id)\n",
    "        filename = '/Documents/gitenberg/10print/cover{}.png'.format( pg_id)\n",
    "        try:\n",
    "            with open(filename, \"wb\") as f:\n",
    "                cover_image.save(f)\n",
    "        except IOError:\n",
    "            print(\"Error opening target file \" + filename)\n",
    "        #mdfilename = '/Users/eric/github/local/{}/metadata.yaml'.format(pandata._repo)\n",
    "        #mdfilename = '/Documents/gitenberg/metadata{}.yaml'.format(pandata._repo)\n",
    "        #pandata.metadata['covers']=[{\"image_path\": \"cover.png\", \"cover_type\":\"generated\"}]\n",
    "        #pandata.dump_file(mdfilename)\n",
    "        if pg_id > 200:\n",
    "            break\n",
    "\n",
    "        \n",
    "        \n",
    "    \n"
   ]
  },
  {
   "cell_type": "code",
   "execution_count": 1,
   "metadata": {
    "collapsed": false
   },
   "outputs": [
    {
     "ename": "NameError",
     "evalue": "name 'split_title' is not defined",
     "output_type": "error",
     "traceback": [
      "\u001b[0;31m---------------------------------------------------------------------------\u001b[0m",
      "\u001b[0;31mNameError\u001b[0m                                 Traceback (most recent call last)",
      "\u001b[0;32m<ipython-input-1-6a7bf76d73ec>\u001b[0m in \u001b[0;36m<module>\u001b[0;34m()\u001b[0m\n\u001b[0;32m----> 1\u001b[0;31m \u001b[0msplit_title\u001b[0m\u001b[0;34m(\u001b[0m\u001b[0;34m'Robbery under ArmsA Story of Life and Adventure in the Bush and in the Australian Goldfields'\u001b[0m\u001b[0;34m)\u001b[0m\u001b[0;34m\u001b[0m\u001b[0m\n\u001b[0m",
      "\u001b[0;31mNameError\u001b[0m: name 'split_title' is not defined"
     ]
    }
   ],
   "source": [
    "split_title('Robbery under Arms\\\n",
    "A Story of Life and Adventure in the Bush and in the Australian Goldfields')"
   ]
  },
  {
   "cell_type": "code",
   "execution_count": 15,
   "metadata": {
    "collapsed": false
   },
   "outputs": [
    {
     "data": {
      "text/plain": [
       "{'author': 'Parker, Gilbert',\n",
       " 'author_for_calibre': 'Parker, Gilbert',\n",
       " 'cover': 'cover.png',\n",
       " 'repo_name': 'At-the-Sign-of-the-Eagle_6218',\n",
       " 'title': 'At the Sign of the Eagle',\n",
       " 'version': '0.1.1'}"
      ]
     },
     "execution_count": 15,
     "metadata": {},
     "output_type": "execute_result"
    }
   ],
   "source": [
    "from gitenberg.travis import repo_metadata\n",
    "repo_metadata()"
   ]
  },
  {
   "cell_type": "code",
   "execution_count": 12,
   "metadata": {
    "collapsed": false
   },
   "outputs": [
    {
     "name": "stdout",
     "output_type": "stream",
     "text": [
      "<gitenberg.util.tenprintcover.Image object at 0x10b45df10>\n"
     ]
    }
   ],
   "source": [
    "import cairocffi as cairo\n",
    "from gitenberg.util import tenprintcover\n",
    "test = tenprintcover.Image(100,100)\n",
    "(font) = 'Noto Sans CJK SC', (10,cairo.FONT_SLANT_NORMAL, cairo.FONT_WEIGHT_NORMAL)\n",
    "test.text('text', 20, 10, 50, 10, tenprintcover.Image.colorRGB(50, 50, 50), font)\n",
    "test."
   ]
  },
  {
   "cell_type": "code",
   "execution_count": 5,
   "metadata": {
    "collapsed": false
   },
   "outputs": [
    {
     "name": "stdout",
     "output_type": "stream",
     "text": [
      "True\n",
      "True\n",
      "True\n",
      "False\n",
      "False\n",
      "False\n",
      "False\n",
      "False\n",
      "True\n"
     ]
    }
   ],
   "source": [
    "import unicodedata\n",
    "for char in u'粉妝樓41-50回':\n",
    "    print ord(char) >= 0x4E00"
   ]
  },
  {
   "cell_type": "code",
   "execution_count": 2,
   "metadata": {
    "collapsed": false
   },
   "outputs": [
    {
     "name": "stdout",
     "output_type": "stream",
     "text": [
      "51118\n"
     ]
    }
   ],
   "source": [
    "import re\n",
    "from gitenberg.util.catalog import get_repo_name\n",
    "\n",
    "print get_repo_name('51118')"
   ]
  },
  {
   "cell_type": "code",
   "execution_count": 24,
   "metadata": {
    "collapsed": false
   },
   "outputs": [
    {
     "data": {
      "text/plain": [
       "{'_bare': False,\n",
       " '_working_tree_dir': '/Documents/gitenberg/library/51118',\n",
       " 'git': <git.cmd.Git at 0x10b350d50>,\n",
       " 'git_dir': '/Documents/gitenberg/library/51118/.git',\n",
       " 'odb': <git.db.GitCmdObjectDB at 0x10b386d50>,\n",
       " 'working_dir': '/Documents/gitenberg/library/51118'}"
      ]
     },
     "execution_count": 24,
     "metadata": {},
     "output_type": "execute_result"
    }
   ],
   "source": [
    "from gitenberg.local_repo import LocalRepo\n",
    "lr = LocalRepo('/Documents/gitenberg/library/51118')\n",
    "lr.git.__dict__"
   ]
  },
  {
   "cell_type": "code",
   "execution_count": 23,
   "metadata": {
    "collapsed": false
   },
   "outputs": [
    {
     "name": "stdout",
     "output_type": "stream",
     "text": [
      "['51118-h/images/cover.jpg']\n"
     ]
    }
   ],
   "source": [
    "import os\n",
    "img_exts = ('jpg', 'jpeg', 'png', 'gif')\n",
    "\n",
    "covers = []\n",
    "repo_path = '/Documents/gitenberg/library/51118'\n",
    "for root, dirs, files in os.walk(repo_path):\n",
    "    files = [f for f in files if not f[0] == '.']\n",
    "    dirs[:] = [d for d in dirs if not d[0] == '.']\n",
    "    covers = covers + [os.path.join(root,f)[len(repo_path)+1:] for f in files if (\n",
    "                'cover' in f and f.lower().split('.')[-1] in img_exts\n",
    "            )]\n",
    "print covers"
   ]
  },
  {
   "cell_type": "code",
   "execution_count": 14,
   "metadata": {
    "collapsed": false
   },
   "outputs": [
    {
     "ename": "ValueError",
     "evalue": "1 is not valid SemVer string",
     "output_type": "error",
     "traceback": [
      "\u001b[0;31m---------------------------------------------------------------------------\u001b[0m",
      "\u001b[0;31mValueError\u001b[0m                                Traceback (most recent call last)",
      "\u001b[0;32m<ipython-input-14-03c6d939bb21>\u001b[0m in \u001b[0;36m<module>\u001b[0;34m()\u001b[0m\n\u001b[1;32m      1\u001b[0m \u001b[0;32mimport\u001b[0m \u001b[0msemver\u001b[0m\u001b[0;34m\u001b[0m\u001b[0m\n\u001b[0;32m----> 2\u001b[0;31m \u001b[0msemver\u001b[0m\u001b[0;34m.\u001b[0m\u001b[0mbump_patch\u001b[0m\u001b[0;34m(\u001b[0m\u001b[0;34m'1'\u001b[0m\u001b[0;34m)\u001b[0m\u001b[0;34m\u001b[0m\u001b[0m\n\u001b[0m",
      "\u001b[0;32m/Users/eric/.virtualenvs/igitberg/lib/python2.7/site-packages/semver.pyc\u001b[0m in \u001b[0;36mbump_patch\u001b[0;34m(version)\u001b[0m\n\u001b[1;32m    118\u001b[0m \u001b[0;34m\u001b[0m\u001b[0m\n\u001b[1;32m    119\u001b[0m \u001b[0;32mdef\u001b[0m \u001b[0mbump_patch\u001b[0m\u001b[0;34m(\u001b[0m\u001b[0mversion\u001b[0m\u001b[0;34m)\u001b[0m\u001b[0;34m:\u001b[0m\u001b[0;34m\u001b[0m\u001b[0m\n\u001b[0;32m--> 120\u001b[0;31m     \u001b[0mverinfo\u001b[0m \u001b[0;34m=\u001b[0m \u001b[0mparse\u001b[0m\u001b[0;34m(\u001b[0m\u001b[0mversion\u001b[0m\u001b[0;34m)\u001b[0m\u001b[0;34m\u001b[0m\u001b[0m\n\u001b[0m\u001b[1;32m    121\u001b[0m     \u001b[0;32mreturn\u001b[0m \u001b[0mformat_version\u001b[0m\u001b[0;34m(\u001b[0m\u001b[0mverinfo\u001b[0m\u001b[0;34m[\u001b[0m\u001b[0;34m'major'\u001b[0m\u001b[0;34m]\u001b[0m\u001b[0;34m,\u001b[0m \u001b[0mverinfo\u001b[0m\u001b[0;34m[\u001b[0m\u001b[0;34m'minor'\u001b[0m\u001b[0;34m]\u001b[0m\u001b[0;34m,\u001b[0m \u001b[0mverinfo\u001b[0m\u001b[0;34m[\u001b[0m\u001b[0;34m'patch'\u001b[0m\u001b[0;34m]\u001b[0m \u001b[0;34m+\u001b[0m \u001b[0;36m1\u001b[0m\u001b[0;34m)\u001b[0m\u001b[0;34m\u001b[0m\u001b[0m\n",
      "\u001b[0;32m/Users/eric/.virtualenvs/igitberg/lib/python2.7/site-packages/semver.pyc\u001b[0m in \u001b[0;36mparse\u001b[0;34m(version)\u001b[0m\n\u001b[1;32m     19\u001b[0m     \u001b[0mmatch\u001b[0m \u001b[0;34m=\u001b[0m \u001b[0m_REGEX\u001b[0m\u001b[0;34m.\u001b[0m\u001b[0mmatch\u001b[0m\u001b[0;34m(\u001b[0m\u001b[0mversion\u001b[0m\u001b[0;34m)\u001b[0m\u001b[0;34m\u001b[0m\u001b[0m\n\u001b[1;32m     20\u001b[0m     \u001b[0;32mif\u001b[0m \u001b[0mmatch\u001b[0m \u001b[0;32mis\u001b[0m \u001b[0mNone\u001b[0m\u001b[0;34m:\u001b[0m\u001b[0;34m\u001b[0m\u001b[0m\n\u001b[0;32m---> 21\u001b[0;31m         \u001b[0;32mraise\u001b[0m \u001b[0mValueError\u001b[0m\u001b[0;34m(\u001b[0m\u001b[0;34m'%s is not valid SemVer string'\u001b[0m \u001b[0;34m%\u001b[0m \u001b[0mversion\u001b[0m\u001b[0;34m)\u001b[0m\u001b[0;34m\u001b[0m\u001b[0m\n\u001b[0m\u001b[1;32m     22\u001b[0m \u001b[0;34m\u001b[0m\u001b[0m\n\u001b[1;32m     23\u001b[0m     \u001b[0mverinfo\u001b[0m \u001b[0;34m=\u001b[0m \u001b[0mmatch\u001b[0m\u001b[0;34m.\u001b[0m\u001b[0mgroupdict\u001b[0m\u001b[0;34m(\u001b[0m\u001b[0;34m)\u001b[0m\u001b[0;34m\u001b[0m\u001b[0m\n",
      "\u001b[0;31mValueError\u001b[0m: 1 is not valid SemVer string"
     ]
    }
   ],
   "source": [
    "import semver\n",
    "semver.bump_patch('1')"
   ]
  },
  {
   "cell_type": "code",
   "execution_count": null,
   "metadata": {
    "collapsed": true
   },
   "outputs": [],
   "source": []
  }
 ],
 "metadata": {
  "kernelspec": {
   "display_name": "Python 2",
   "language": "python",
   "name": "python2"
  },
  "language_info": {
   "codemirror_mode": {
    "name": "ipython",
    "version": 2
   },
   "file_extension": ".py",
   "mimetype": "text/x-python",
   "name": "python",
   "nbconvert_exporter": "python",
   "pygments_lexer": "ipython2",
   "version": "2.7.9"
  }
 },
 "nbformat": 4,
 "nbformat_minor": 0
}
